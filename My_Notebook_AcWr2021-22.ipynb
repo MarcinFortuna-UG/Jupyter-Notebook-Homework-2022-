{
 "cells": [
  {
   "cell_type": "markdown",
   "metadata": {},
   "source": [
    "# Introduction to Jupyter Notebooks"
   ]
  },
  {
   "cell_type": "code",
   "execution_count": 1,
   "metadata": {},
   "outputs": [
    {
     "name": "stdout",
     "output_type": "stream",
     "text": [
      "Hello\n"
     ]
    }
   ],
   "source": [
    "print(\"Hello\")"
   ]
  },
  {
   "cell_type": "markdown",
   "metadata": {},
   "source": [
    "This is a **Markdown** line"
   ]
  },
  {
   "cell_type": "code",
   "execution_count": 2,
   "metadata": {},
   "outputs": [
    {
     "data": {
      "text/plain": [
       "6"
      ]
     },
     "execution_count": 2,
     "metadata": {},
     "output_type": "execute_result"
    }
   ],
   "source": [
    "3 + 3"
   ]
  },
  {
   "cell_type": "code",
   "execution_count": 3,
   "metadata": {},
   "outputs": [],
   "source": [
    "import math"
   ]
  },
  {
   "cell_type": "code",
   "execution_count": 4,
   "metadata": {},
   "outputs": [
    {
     "data": {
      "text/plain": [
       "3.141592653589793"
      ]
     },
     "execution_count": 4,
     "metadata": {},
     "output_type": "execute_result"
    }
   ],
   "source": [
    "math.pi"
   ]
  },
  {
   "cell_type": "markdown",
   "metadata": {},
   "source": [
    "Above you can see the $\\pi$ number. I did it in the $\\LaTeX$ mode!"
   ]
  },
  {
   "cell_type": "markdown",
   "metadata": {},
   "source": [
    "$\\frac{1}{3} + \\frac{1}{6} = \\frac{3}{6}$"
   ]
  },
  {
   "cell_type": "code",
   "execution_count": 5,
   "metadata": {},
   "outputs": [],
   "source": [
    "def calculate_circle_area(r):\n",
    "    return math.pi * r ** 2"
   ]
  },
  {
   "cell_type": "code",
   "execution_count": 6,
   "metadata": {},
   "outputs": [
    {
     "data": {
      "text/plain": [
       "28.274333882308138"
      ]
     },
     "execution_count": 6,
     "metadata": {},
     "output_type": "execute_result"
    }
   ],
   "source": [
    "calculate_circle_area(3)"
   ]
  },
  {
   "cell_type": "code",
   "execution_count": 7,
   "metadata": {},
   "outputs": [
    {
     "name": "stdout",
     "output_type": "stream",
     "text": [
      "0.0\n",
      "3.141592653589793\n",
      "12.566370614359172\n",
      "28.274333882308138\n",
      "50.26548245743669\n",
      "78.53981633974483\n",
      "113.09733552923255\n",
      "153.93804002589985\n",
      "201.06192982974676\n",
      "254.46900494077323\n"
     ]
    }
   ],
   "source": [
    "for i in range(10):\n",
    "    print(calculate_circle_area(i))"
   ]
  },
  {
   "cell_type": "markdown",
   "metadata": {},
   "source": [
    "<p>This is a para in HTML!<br><span style=\"color:green;font-size:30px\">And this should be green and big:)</span></p>"
   ]
  },
  {
   "cell_type": "markdown",
   "metadata": {},
   "source": [
    "<img src=\"https://images.unsplash.com/photo-1610223755176-f8c8c92e4ad8?crop=entropy&cs=tinysrgb&fm=jpg&ixlib=rb-1.2.1&q=80&raw_url=true&ixid=MnwxMjA3fDB8MHxwaG90by1wYWdlfHx8fGVufDB8fHx8&auto=format&fit=crop&w=1170\" />"
   ]
  },
  {
   "cell_type": "markdown",
   "metadata": {},
   "source": [
    "## What else can We achieve With Jupyter? :)"
   ]
  },
  {
   "cell_type": "markdown",
   "metadata": {},
   "source": [
    "Let's carry out a simple analysis of linguistic data!"
   ]
  },
  {
   "cell_type": "code",
   "execution_count": 8,
   "metadata": {},
   "outputs": [],
   "source": [
    "import requests"
   ]
  },
  {
   "cell_type": "code",
   "execution_count": 9,
   "metadata": {},
   "outputs": [],
   "source": [
    "page = requests.get(\"https://en.ug.edu.pl/\")"
   ]
  },
  {
   "cell_type": "code",
   "execution_count": 10,
   "metadata": {},
   "outputs": [],
   "source": [
    "# print(page.content)"
   ]
  },
  {
   "cell_type": "code",
   "execution_count": 11,
   "metadata": {},
   "outputs": [],
   "source": [
    "from bs4 import BeautifulSoup\n",
    "soup = BeautifulSoup(page.content, 'html.parser')"
   ]
  },
  {
   "cell_type": "code",
   "execution_count": 12,
   "metadata": {},
   "outputs": [],
   "source": [
    "# print(soup.prettify())"
   ]
  },
  {
   "cell_type": "code",
   "execution_count": 13,
   "metadata": {},
   "outputs": [
    {
     "name": "stdout",
     "output_type": "stream",
     "text": [
      "General and historical information about the authorities as well as a guide to the University - a map and a virtual walk.\n"
     ]
    }
   ],
   "source": [
    "paras = soup.find_all('p')\n",
    "# print(paras)\n",
    "print(paras[4].get_text())"
   ]
  },
  {
   "cell_type": "code",
   "execution_count": 14,
   "metadata": {},
   "outputs": [
    {
     "name": "stdout",
     "output_type": "stream",
     "text": [
      "['General and historical information about the authorities as well as a guide to the University - a map and a virtual walk.', 'Information about scientific research, conferences, seminars and trips abroad, scholarships, awards. More information about Human Resources Strategy for Researchers.', \"We invite you to bachelor's and master's degrees, postgraduate studies, and doctoral schools. More information on why it is worth studying at the University and Erasmus+\", 'Basic information about practical aspects of studying in Poland and at the University of Gdańsk. Here we also offer courses, training and summer schools, culture and sport.', 'Information about international, inter-university, and socio-economic cooperation, which is conducted as part of such projects.', 'SEA-EU is an alliance of 6 European and coastal universities from Gdańsk, Cadiz, Brest, Kiel, Split and Malta.\\xa0Our vision is to establish a distinctly international, pluri-ethnic, multilingual and interdisciplinary European University.', 'Students', 'Educators', 'Faculties / International Research Agendas', 'Subjects BrE.', 'Rector’s Office\\nof the University of Gdańsk', 'ul. Jana Bażyńskiego 8, 80-309 Gdańsk', 'NIP: 584-020-32-39', 'REGON: 000001330', 'reception phone number:\\n+ 48 58 523 30 00', 'bank account numbers', 'Information on', 'Information for', 'Other']\n"
     ]
    }
   ],
   "source": [
    "only_text = []\n",
    "for para in paras:\n",
    "    processed_para = para.get_text()\n",
    "    processed_para = processed_para.strip()\n",
    "    if len(processed_para) > 1:\n",
    "        only_text.append(processed_para)\n",
    "print(only_text)"
   ]
  },
  {
   "cell_type": "code",
   "execution_count": 15,
   "metadata": {},
   "outputs": [],
   "source": [
    "import nltk"
   ]
  },
  {
   "cell_type": "code",
   "execution_count": 16,
   "metadata": {},
   "outputs": [],
   "source": [
    "tuples = []\n",
    "for sentence in only_text:\n",
    "    tokenized = nltk.word_tokenize(sentence)\n",
    "    tagged = nltk.pos_tag(tokenized)\n",
    "    for item in tagged:\n",
    "        tuples.append(item)\n",
    "\n",
    "# print(tuples)"
   ]
  },
  {
   "cell_type": "code",
   "execution_count": 17,
   "metadata": {},
   "outputs": [],
   "source": [
    "counter_dict = {}\n",
    "for item in tuples:\n",
    "    if item[1] not in counter_dict:\n",
    "        counter_dict[item[1]] = 1\n",
    "    else:\n",
    "        counter_dict[item[1]] += 1\n",
    "\n",
    "# print(counter_dict)"
   ]
  },
  {
   "cell_type": "markdown",
   "metadata": {},
   "source": [
    "Here you may add some statisical analysis (e.g. how many nouns were recognized, how many adjectives etc. You can also add some graphs/charts to show your stats. The more complex you make it, the better!"
   ]
  },
  {
   "cell_type": "markdown",
   "metadata": {},
   "source": [
    "## Homework"
   ]
  },
  {
   "cell_type": "markdown",
   "metadata": {},
   "source": [
    "#### General instruction:\n",
    "Write an *interactive linguistic essay* - use Beautiful Soup to scrape text from a website and NLTK to carry out some basic linguistic analysis. Make sure that you're using as many features of the Notebook as possible, so advanced Markdown is welcome. I don't expect very advanced Python - it can be very basic, but I want you to learn how to use the Jupyter Notebook! Of course, it would be awesome if you could learn more NLTK and do some deeper research, visualizing the stats with matplotlib etc. Decide yourself how much effort you want to put into this - remember that it will be part of your portfolio!\n",
    "\n",
    "The language you're using is also relevant, I will grade your English too ;)"
   ]
  }
 ],
 "metadata": {
  "kernelspec": {
   "display_name": "Python 3",
   "language": "python",
   "name": "python3"
  },
  "language_info": {
   "codemirror_mode": {
    "name": "ipython",
    "version": 3
   },
   "file_extension": ".py",
   "mimetype": "text/x-python",
   "name": "python",
   "nbconvert_exporter": "python",
   "pygments_lexer": "ipython3",
   "version": "3.7.1"
  }
 },
 "nbformat": 4,
 "nbformat_minor": 2
}
